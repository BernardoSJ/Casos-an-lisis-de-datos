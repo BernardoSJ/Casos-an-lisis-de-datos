{
  "nbformat": 4,
  "nbformat_minor": 0,
  "metadata": {
    "colab": {
      "name": "Caso Clustering Jeráriquico. Calificación de clientes de una tienda",
      "provenance": [],
      "collapsed_sections": []
    },
    "kernelspec": {
      "name": "python3",
      "display_name": "Python 3"
    }
  },
  "cells": [
    {
      "cell_type": "markdown",
      "metadata": {
        "id": "kqlx-puEtlrI"
      },
      "source": [
        "#### Autor: Bernardo Salinas Jaquez\r\n",
        "#### Fecha: Enero-2021\r\n",
        "#### Clustering Jerárquico. Datos de calificaciones de clientes dentro de una tienda"
      ]
    },
    {
      "cell_type": "markdown",
      "metadata": {
        "id": "CCKAqWK6yOxU"
      },
      "source": [
        "### Objetivo\r\n",
        "Aplicar el algoritmo de Clustering Jerárquico para separar a los usuarios de una tienda de acuerdo a sus calificaciones dadas a la tienda.\r\n",
        "\r\n",
        "### Descripcíon\r\n",
        "Se utilza mediante comandos e instrucciones de Python y un conjunto de datos sobre las calificaciones otorgadas por sus clientes a una tienda, el algoritmo clustering jerárquico de forma Aglomerante trata de agrupar estos usuarios de acuerdo a sus ingresos anuales y sus calificaciones a la tienda.\r\n",
        "\r\n",
        "### Fundamento teórico\r\n",
        "Como su nombre lo indica, el clustering Jerárquico construye una jerarquía de clusters para realizar el análisis y existen dos categorías para este tipo de clustering: [Avila, 2020]\r\n",
        "\r\n",
        "* Aglomerante\r\n",
        "* Divisivo\r\n",
        "\r\n",
        "Para representar los resultados de la jerarquía de grupos se usa el dendograma que muestra las jerarquías de acuerdo a las distancias que existen entre los elementos del conjunto de datos, las cuales se pueden representar en una matriz de distancias. [Avila, 2020]\r\n",
        "\r\n",
        "**Clustering Jerárquico Aglomerante**\r\n",
        "\r\n",
        "Es una aproximación de abajo hacia arriba (bottom-up) donde se dividen los clusters en subclusters y así sucesivamente. Iniciando asignando cada muestra simple a un cluster y en cada iteración sucesiva va aglomerando (mezclando) el par de closters más cercanos satisfaciendo algún criterio de similaridad, hasta que todos los elementos pertenecen a un solo cluster. Los clusters generados en los primeros pasos son anidados con los clusters generados en los siguientes pasos. [Avila, 2020]\r\n",
        "\r\n",
        "El proceso de cluster aglomerante es el siguiente:\r\n",
        "\r\n",
        "* Primero asigna cada elemento a un cluster\r\n",
        "* Después encuentra la matriz de distancias\r\n",
        "* Encuentra 2 clusters que tengan la distancia más corta y los mezcla\r\n",
        "* Continua este proceso hasta que se forma un solo cluster grande\r\n",
        "\r\n",
        "\r\n",
        "**Clustering Jerárquico Divisivo**\r\n",
        "\r\n",
        "Este tipo de clustering se lleva a cabo con un enfoque de arriba hacia abajo (top-down), Se inicia con todos los elementos asignado a un solo cluster y sigue el algoritmo hasta que cada elemento es un cluster individual. [Avila, 2020]\r\n",
        "\r\n",
        "A diferencia del enfoque de abajo hacia arriba donde las decisiones para generar los clusters se basan en lo patrones locales sin tomar en cuenta la distribución global, el enfoque de arriba hacia abajo se beneficia de la información completa sobre la distribución global al ir haciendo las particiones. [Avila, 2020]\r\n",
        "\r\n"
      ]
    },
    {
      "cell_type": "markdown",
      "metadata": {
        "id": "c9Ms1VEQyZxQ"
      },
      "source": [
        "#### 1. Cargar librerías"
      ]
    },
    {
      "cell_type": "code",
      "metadata": {
        "id": "0eGoOvgkyN-g"
      },
      "source": [
        "import numpy as np\r\n",
        "import matplotlib.pyplot as plt\r\n",
        "import pandas as pd\r\n",
        "import scipy.cluster.hierarchy as sch\r\n",
        "from sklearn.cluster import AgglomerativeClustering"
      ],
      "execution_count": 1,
      "outputs": []
    },
    {
      "cell_type": "markdown",
      "metadata": {
        "id": "fvkXEubxyzNA"
      },
      "source": [
        "#### 2. Cargar datos\r\n",
        "\r\n",
        "* Mostrar los primeros cinco registros\r\n",
        "* Mostrar los ultimos cinco registros"
      ]
    },
    {
      "cell_type": "code",
      "metadata": {
        "colab": {
          "base_uri": "https://localhost:8080/",
          "height": 195
        },
        "id": "lYVz6ejHsyCY",
        "outputId": "49c9f3cd-01b0-45e8-dd54-cd89e0065185"
      },
      "source": [
        "datos = pd.read_csv(\"https://raw.githubusercontent.com/BernardoSJ/Casos-analisis-inteligente-de-datos/main/datos/Mall_Customers.csv\", delimiter=\",\")\r\n",
        "datos.head()"
      ],
      "execution_count": 5,
      "outputs": [
        {
          "output_type": "execute_result",
          "data": {
            "text/html": [
              "<div>\n",
              "<style scoped>\n",
              "    .dataframe tbody tr th:only-of-type {\n",
              "        vertical-align: middle;\n",
              "    }\n",
              "\n",
              "    .dataframe tbody tr th {\n",
              "        vertical-align: top;\n",
              "    }\n",
              "\n",
              "    .dataframe thead th {\n",
              "        text-align: right;\n",
              "    }\n",
              "</style>\n",
              "<table border=\"1\" class=\"dataframe\">\n",
              "  <thead>\n",
              "    <tr style=\"text-align: right;\">\n",
              "      <th></th>\n",
              "      <th>CustomerID</th>\n",
              "      <th>Genre</th>\n",
              "      <th>Age</th>\n",
              "      <th>Annual Income (k$)</th>\n",
              "      <th>Spending Score (1-100)</th>\n",
              "    </tr>\n",
              "  </thead>\n",
              "  <tbody>\n",
              "    <tr>\n",
              "      <th>0</th>\n",
              "      <td>1</td>\n",
              "      <td>Male</td>\n",
              "      <td>19</td>\n",
              "      <td>15</td>\n",
              "      <td>39</td>\n",
              "    </tr>\n",
              "    <tr>\n",
              "      <th>1</th>\n",
              "      <td>2</td>\n",
              "      <td>Male</td>\n",
              "      <td>21</td>\n",
              "      <td>15</td>\n",
              "      <td>81</td>\n",
              "    </tr>\n",
              "    <tr>\n",
              "      <th>2</th>\n",
              "      <td>3</td>\n",
              "      <td>Female</td>\n",
              "      <td>20</td>\n",
              "      <td>16</td>\n",
              "      <td>6</td>\n",
              "    </tr>\n",
              "    <tr>\n",
              "      <th>3</th>\n",
              "      <td>4</td>\n",
              "      <td>Female</td>\n",
              "      <td>23</td>\n",
              "      <td>16</td>\n",
              "      <td>77</td>\n",
              "    </tr>\n",
              "    <tr>\n",
              "      <th>4</th>\n",
              "      <td>5</td>\n",
              "      <td>Female</td>\n",
              "      <td>31</td>\n",
              "      <td>17</td>\n",
              "      <td>40</td>\n",
              "    </tr>\n",
              "  </tbody>\n",
              "</table>\n",
              "</div>"
            ],
            "text/plain": [
              "   CustomerID   Genre  Age  Annual Income (k$)  Spending Score (1-100)\n",
              "0           1    Male   19                  15                      39\n",
              "1           2    Male   21                  15                      81\n",
              "2           3  Female   20                  16                       6\n",
              "3           4  Female   23                  16                      77\n",
              "4           5  Female   31                  17                      40"
            ]
          },
          "metadata": {
            "tags": []
          },
          "execution_count": 5
        }
      ]
    },
    {
      "cell_type": "code",
      "metadata": {
        "colab": {
          "base_uri": "https://localhost:8080/",
          "height": 195
        },
        "id": "g6vDWIqP0aZ0",
        "outputId": "1a5e241e-c294-46c3-aa68-249a2c7d4b5c"
      },
      "source": [
        "datos.tail()"
      ],
      "execution_count": 6,
      "outputs": [
        {
          "output_type": "execute_result",
          "data": {
            "text/html": [
              "<div>\n",
              "<style scoped>\n",
              "    .dataframe tbody tr th:only-of-type {\n",
              "        vertical-align: middle;\n",
              "    }\n",
              "\n",
              "    .dataframe tbody tr th {\n",
              "        vertical-align: top;\n",
              "    }\n",
              "\n",
              "    .dataframe thead th {\n",
              "        text-align: right;\n",
              "    }\n",
              "</style>\n",
              "<table border=\"1\" class=\"dataframe\">\n",
              "  <thead>\n",
              "    <tr style=\"text-align: right;\">\n",
              "      <th></th>\n",
              "      <th>CustomerID</th>\n",
              "      <th>Genre</th>\n",
              "      <th>Age</th>\n",
              "      <th>Annual Income (k$)</th>\n",
              "      <th>Spending Score (1-100)</th>\n",
              "    </tr>\n",
              "  </thead>\n",
              "  <tbody>\n",
              "    <tr>\n",
              "      <th>195</th>\n",
              "      <td>196</td>\n",
              "      <td>Female</td>\n",
              "      <td>35</td>\n",
              "      <td>120</td>\n",
              "      <td>79</td>\n",
              "    </tr>\n",
              "    <tr>\n",
              "      <th>196</th>\n",
              "      <td>197</td>\n",
              "      <td>Female</td>\n",
              "      <td>45</td>\n",
              "      <td>126</td>\n",
              "      <td>28</td>\n",
              "    </tr>\n",
              "    <tr>\n",
              "      <th>197</th>\n",
              "      <td>198</td>\n",
              "      <td>Male</td>\n",
              "      <td>32</td>\n",
              "      <td>126</td>\n",
              "      <td>74</td>\n",
              "    </tr>\n",
              "    <tr>\n",
              "      <th>198</th>\n",
              "      <td>199</td>\n",
              "      <td>Male</td>\n",
              "      <td>32</td>\n",
              "      <td>137</td>\n",
              "      <td>18</td>\n",
              "    </tr>\n",
              "    <tr>\n",
              "      <th>199</th>\n",
              "      <td>200</td>\n",
              "      <td>Male</td>\n",
              "      <td>30</td>\n",
              "      <td>137</td>\n",
              "      <td>83</td>\n",
              "    </tr>\n",
              "  </tbody>\n",
              "</table>\n",
              "</div>"
            ],
            "text/plain": [
              "     CustomerID   Genre  Age  Annual Income (k$)  Spending Score (1-100)\n",
              "195         196  Female   35                 120                      79\n",
              "196         197  Female   45                 126                      28\n",
              "197         198    Male   32                 126                      74\n",
              "198         199    Male   32                 137                      18\n",
              "199         200    Male   30                 137                      83"
            ]
          },
          "metadata": {
            "tags": []
          },
          "execution_count": 6
        }
      ]
    },
    {
      "cell_type": "markdown",
      "metadata": {
        "id": "aSceZH0N1I6n"
      },
      "source": [
        "#### 3. Descripción de los datos"
      ]
    },
    {
      "cell_type": "markdown",
      "metadata": {
        "id": "pGninBq_1JYM"
      },
      "source": [
        "(Las marcadas en negritas son con las que se entrena el modelo)\r\n",
        "\r\n",
        "* CustomerID - Id del cliente\r\n",
        "* Genre - Genero\r\n",
        "* Age - Edad\r\n",
        "* **Annual Income – Ingresos anuales en miles de los clientes** \r\n",
        "* **Spending Score – Calificación de los usuarios a la tienda**\r\n"
      ]
    },
    {
      "cell_type": "markdown",
      "metadata": {
        "id": "2ZY-PvVm4SGX"
      },
      "source": [
        "#### 4. Visualización de los datos\r\n",
        "\r\n",
        "Dendograma para saber el número ideal de cluster"
      ]
    },
    {
      "cell_type": "code",
      "metadata": {
        "colab": {
          "base_uri": "https://localhost:8080/",
          "height": 295
        },
        "id": "FP-4hHzc4RRY",
        "outputId": "b3701cf7-313f-460a-a491-72fb1590e60b"
      },
      "source": [
        "X = datos.iloc[:, [3, 4]].values\r\n",
        "dendrogram = sch.dendrogram(sch.linkage(X, method = 'ward'))\r\n",
        "\r\n",
        "plt.title('Dendograma')\r\n",
        "plt.xlabel('Clientes')\r\n",
        "plt.ylabel('Distancias Euclidianas')\r\n",
        "plt.show()"
      ],
      "execution_count": 7,
      "outputs": [
        {
          "output_type": "display_data",
          "data": {
            "image/png": "[encoded data removed]",
            "text/plain": [
              "<Figure size 432x288 with 1 Axes>"
            ]
          },
          "metadata": {
            "tags": [],
            "needs_background": "light"
          }
        }
      ]
    },
    {
      "cell_type": "markdown",
      "metadata": {
        "id": "07pAuw1445qt"
      },
      "source": [
        "Podemos observar que la distancia máxima la marca la línea azul oscuro que une los clusters rojo y azul claro, por lo que si realizamos un corte en esa zona obtenemos:\r\n",
        "La distancia máxima, nos genera 5 clusters."
      ]
    },
    {
      "cell_type": "markdown",
      "metadata": {
        "id": "yyq6lx5_5cxK"
      },
      "source": [
        "#### 5. Creación del modelo"
      ]
    },
    {
      "cell_type": "markdown",
      "metadata": {
        "id": "wLussbdY5xwu"
      },
      "source": [
        "Con el método aglomerante utilizando la clase AgglomerativeClustering, se crean 5 clusters para agrupar a los clientes y además se realiza una gráfica de esos cluster"
      ]
    },
    {
      "cell_type": "markdown",
      "metadata": {
        "id": "81kl7Kmd6ERM"
      },
      "source": [
        ""
      ]
    },
    {
      "cell_type": "code",
      "metadata": {
        "id": "PF0jU_Eb5cIT"
      },
      "source": [
        "hc = AgglomerativeClustering(n_clusters = 5, \r\n",
        "                    affinity = 'euclidean', \r\n",
        "                    linkage = 'ward')\r\n",
        "\r\n",
        "y_hc = hc.fit_predict(X)"
      ],
      "execution_count": 9,
      "outputs": []
    },
    {
      "cell_type": "code",
      "metadata": {
        "colab": {
          "base_uri": "https://localhost:8080/",
          "height": 295
        },
        "id": "BDHOsL6q5rDe",
        "outputId": "1a8d04e4-8616-42cf-8d55-4496c0f6e1ea"
      },
      "source": [
        "plt.scatter(X[y_hc == 0, 0], X[y_hc == 0, 1], s = 100, c = 'red', label = 'Cluster 1')\r\n",
        "plt.scatter(X[y_hc == 1, 0], X[y_hc == 1, 1], s = 100, c = 'blue', label = 'Cluster 2')\r\n",
        "plt.scatter(X[y_hc == 2, 0], X[y_hc == 2, 1], s = 100, c = 'green', label = 'Cluster 3')\r\n",
        "plt.scatter(X[y_hc == 3, 0], X[y_hc == 3, 1], s = 100, c = 'cyan', label = 'Cluster 4')\r\n",
        "plt.scatter(X[y_hc == 4, 0], X[y_hc == 4, 1], s = 100, c = 'magenta', label = 'Cluster 5')\r\n",
        "plt.title('Clusters of customers')\r\n",
        "plt.xlabel('Annual Income (k$)')\r\n",
        "plt.ylabel('Spending Score (1-100)')\r\n",
        "plt.legend()\r\n",
        "plt.show()"
      ],
      "execution_count": 10,
      "outputs": [
        {
          "output_type": "display_data",
          "data": {
            "image/png": "[encoded data removed]",
            "text/plain": [
              "<Figure size 432x288 with 1 Axes>"
            ]
          },
          "metadata": {
            "tags": [],
            "needs_background": "light"
          }
        }
      ]
    },
    {
      "cell_type": "markdown",
      "metadata": {
        "id": "K0ZtxRAn8D4p"
      },
      "source": [
        "Cantidad de usuarios por Cluster"
      ]
    },
    {
      "cell_type": "code",
      "metadata": {
        "colab": {
          "base_uri": "https://localhost:8080/",
          "height": 195
        },
        "id": "YB5nNyo4719o",
        "outputId": "e2553107-57cb-416d-9afa-e4abbb294e74"
      },
      "source": [
        "copy =  pd.DataFrame()\r\n",
        "\r\n",
        "copy['label'] = y_hc;\r\n",
        "cantidadGrupo =  pd.DataFrame()\r\n",
        "cantidadGrupo['color']=['Cluster 1','Cluster 2','Cluster 3','Cluster 4','Cluster 5']\r\n",
        "cantidadGrupo['cantidad']=copy.groupby('label').size()\r\n",
        "cantidadGrupo"
      ],
      "execution_count": 11,
      "outputs": [
        {
          "output_type": "execute_result",
          "data": {
            "text/html": [
              "<div>\n",
              "<style scoped>\n",
              "    .dataframe tbody tr th:only-of-type {\n",
              "        vertical-align: middle;\n",
              "    }\n",
              "\n",
              "    .dataframe tbody tr th {\n",
              "        vertical-align: top;\n",
              "    }\n",
              "\n",
              "    .dataframe thead th {\n",
              "        text-align: right;\n",
              "    }\n",
              "</style>\n",
              "<table border=\"1\" class=\"dataframe\">\n",
              "  <thead>\n",
              "    <tr style=\"text-align: right;\">\n",
              "      <th></th>\n",
              "      <th>color</th>\n",
              "      <th>cantidad</th>\n",
              "    </tr>\n",
              "  </thead>\n",
              "  <tbody>\n",
              "    <tr>\n",
              "      <th>0</th>\n",
              "      <td>Cluster 1</td>\n",
              "      <td>32</td>\n",
              "    </tr>\n",
              "    <tr>\n",
              "      <th>1</th>\n",
              "      <td>Cluster 2</td>\n",
              "      <td>85</td>\n",
              "    </tr>\n",
              "    <tr>\n",
              "      <th>2</th>\n",
              "      <td>Cluster 3</td>\n",
              "      <td>39</td>\n",
              "    </tr>\n",
              "    <tr>\n",
              "      <th>3</th>\n",
              "      <td>Cluster 4</td>\n",
              "      <td>21</td>\n",
              "    </tr>\n",
              "    <tr>\n",
              "      <th>4</th>\n",
              "      <td>Cluster 5</td>\n",
              "      <td>23</td>\n",
              "    </tr>\n",
              "  </tbody>\n",
              "</table>\n",
              "</div>"
            ],
            "text/plain": [
              "       color  cantidad\n",
              "0  Cluster 1        32\n",
              "1  Cluster 2        85\n",
              "2  Cluster 3        39\n",
              "3  Cluster 4        21\n",
              "4  Cluster 5        23"
            ]
          },
          "metadata": {
            "tags": []
          },
          "execution_count": 11
        }
      ]
    },
    {
      "cell_type": "markdown",
      "metadata": {
        "id": "qAYo9-Q_7PKZ"
      },
      "source": [
        "#### 6. Interpretación\r\n"
      ]
    },
    {
      "cell_type": "markdown",
      "metadata": {
        "id": "wDowZ37R8liM"
      },
      "source": [
        "Para este caso, se utilizó un conjunto de datos en donde venían 200 datos de una tienda que ha calificado a sus clientes con una puntuación que va de 1 a 100 de acuerdo a su frecuencia de compra y otras condiciones que ha utilizado dicha tienda para calificar a sus clientes con esa puntuación. En el conjunto de datos vienen los siguientes campos:\r\n",
        "(Las marcadas en negritas son con las que se entrena el modelo)\r\n",
        "\r\n",
        "* CustomerID - Id del cliente\r\n",
        "* Genre - Genero\r\n",
        "* Age - Edad\r\n",
        "* **Annual Income – Ingresos anuales en miles de los clientes** \r\n",
        "* **Spending Score – Calificación de los usuarios a la tienda**\r\n",
        "\r\n",
        "Para este caso en donde se aplica el algoritmo de clustering jerárquico de manera aglomerante. De acuerdo al dendograma que fue generado en la parte de visualización de datos en este se vio que el número de clusters ideal es de 5 ya que ahí en ese punto es en donde los datos se podrían agrupar de mejor manera.\r\n",
        "Una aplicación importante de los modelos de clustering es en los negocios ya que por ejemplo para este caso, por el conjunto de datos, cuando se aplica el modelo de clustering jerárquico, podemos realizar una gráfica en donde se ven los distintos clusters y lo que se interpreta de esta es lo siguiente:\r\n",
        "\r\n",
        "En la gráfica se ve una relación del ingreso anual en miles y la puntuación generada por la tienda, aquí se pueden ver los clientes que podrían ser de interes para la tienda. Por ejemplo en el grupo de clientes en color verde, lo cuales tienen ingresos altos y una puntuación alta, a estos la tienda les ppdría ofrecer algún tipo de promoción. En purpura tenemos a los clientes de baja puntuación y bajos ingresos, mientras que, en azul claro, a los clientes con ingresos bajos pero con alta puntuación, lo cual indica que estos clientes realizan muchas compras a pesar de que tienen bajos ingresos.\r\n"
      ]
    },
    {
      "cell_type": "markdown",
      "metadata": {
        "id": "ydRhM_4w8lw6"
      },
      "source": [
        "#### 7. Bibliografia\r\n",
        "\r\n",
        "Información del caso y teoría del algoritmo:\r\n",
        "\r\n",
        "Avila Jacob. (2020). *Clustering Jerárquico con Python*. 4 de enero de 2021, Sitio web: https://www.jacobsoft.com.mx/es_mx/clustering-jerarquico-con-python/"
      ]
    }
  ]
}